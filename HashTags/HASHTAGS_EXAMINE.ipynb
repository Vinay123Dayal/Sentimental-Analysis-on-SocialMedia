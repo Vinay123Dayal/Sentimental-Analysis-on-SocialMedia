{
  "nbformat": 4,
  "nbformat_minor": 0,
  "metadata": {
    "colab": {
      "name": "Vinay_2018117_Section2.ipynb",
      "provenance": [],
      "collapsed_sections": []
    },
    "kernelspec": {
      "name": "python3",
      "display_name": "Python 3"
    },
    "language_info": {
      "name": "python"
    }
  },
  "cells": [
    {
      "cell_type": "code",
      "metadata": {
        "id": "vIUWZfgEE7oO"
      },
      "source": [
        "import os\n",
        "import tweepy as tw\n",
        "import pandas as pd\n",
        "from bs4 import BeautifulSoup\n",
        "import pickle\n",
        "\n",
        "\n",
        "auth = tw.OAuthHandler(consumer_key, consumer_secret)\n",
        "auth.set_access_token(access_token, access_token_secret)\n",
        "api = tw.API(auth, wait_on_rate_limit=True)"
      ],
      "execution_count": null,
      "outputs": []
    },
    {
      "cell_type": "code",
      "metadata": {
        "id": "FAfEPA66i3rr",
        "colab": {
          "base_uri": "https://localhost:8080/"
        },
        "outputId": "267e27c5-0ae1-4969-a0e4-b9fcfc5d3bc2"
      },
      "source": [
        "India_id=23424848;\n",
        "result=api.trends_place(India_id);\n",
        "trendlist=[];\n",
        "for i in result[0]['trends']:\n",
        "  trendlist.append(i['name']);\n",
        "  print(i['name']);"
      ],
      "execution_count": null,
      "outputs": [
        {
          "output_type": "stream",
          "text": [
            "#ShameOnKejriwal\n",
            "#WorldBookDay\n",
            "#ModiOxygenDo\n",
            "#FalconAndWinterSoldierFinale\n",
            "#hbdvespa75\n",
            "JASLY HITS 1M POSTS ON IG\n",
            "PM-CM\n",
            "Breaking Osho Laxmi\n",
            "No One Saw Sushant Hanging\n",
            "DCGI\n",
            "jungkook\n",
            "Captain America\n",
            "23rd of April\n",
            "CM of Delhi\n",
            "Shri Narendra Modi\n",
            "AFTV\n",
            "Sharon\n",
            "Bucky\n",
            "IITian\n",
            "hobi\n",
            "Bandish Bandits\n",
            "Dushyant Dave\n",
            "Ma Laxmi\n",
            "Arnab\n",
            "kim namjoon\n",
            "Louis Vuitton\n",
            "Germany\n",
            "Nana\n",
            "Indian Air Force\n",
            "Chief Ministers\n",
            "bighit\n",
            "Central Vista\n",
            "Hooda\n",
            "Rahul Mittra\n",
            "hoseok\n",
            "BTS WORLD DOMINATION\n",
            "#BanglaAcheModiJirSathe\n",
            "#ईद_राधे_की\n",
            "#ModiAbandonedIndia\n",
            "#Protocol\n",
            "#OxygenCrisis\n",
            "#JasLyiansKiJaanJasLy\n",
            "#हम_जीतेंगे_कोरोना_हारेगा\n",
            "#COVIDEmergency2021\n",
            "#भाषणबाज_मोदी\n",
            "#AmitMistry\n",
            "#Virafin\n",
            "#MIvsPBKS\n",
            "#BLACKPINKFourthBillion\n",
            "#FashionLeagueByMyntra\n"
          ],
          "name": "stdout"
        }
      ]
    },
    {
      "cell_type": "code",
      "metadata": {
        "id": "dgHNBLRNFJ2Q"
      },
      "source": [
        "import pickle"
      ],
      "execution_count": null,
      "outputs": []
    },
    {
      "cell_type": "code",
      "metadata": {
        "id": "aiAFXuiORjp6"
      },
      "source": [
        "q1=trendlist[0];\n",
        "trends=[];\n",
        "for i in tw.Cursor(api.search, q=q1).items(2000):\n",
        "  trends.append(i);\n",
        "count=0;\n",
        "with open('trends.pickle', 'wb') as write:\n",
        "    pickle.dump(trends, write, protocol=pickle.HIGHEST_PROTOCOL)\n",
        "    "
      ],
      "execution_count": null,
      "outputs": []
    },
    {
      "cell_type": "code",
      "metadata": {
        "id": "Yo2vNeXpfv3t"
      },
      "source": [
        "with open('trends.pickle', 'rb') as read: #reading the saved dict \n",
        "     trends = pickle.load(read)"
      ],
      "execution_count": null,
      "outputs": []
    },
    {
      "cell_type": "code",
      "metadata": {
        "id": "SA2NxjtZ_ymp",
        "colab": {
          "base_uri": "https://localhost:8080/"
        },
        "outputId": "db152808-03fa-4be9-84c0-6457187aa923"
      },
      "source": [
        "top10={};toplikes={};topretweet={};\n",
        "trendingtweet=[];\n",
        "for i in trends:\n",
        "  text=i.text;\n",
        "  val=[];\n",
        "  val.append(i.id_str);val.append(i.text);\n",
        "  trendingtweet.append(val);\n",
        "  \n",
        "  text=text.split(\" \");\n",
        "  for j in text:\n",
        "    if(len(j)>0 and j[0]=='#'):\n",
        "      j=j.lower();\n",
        "      if(j not in top10.keys()):\n",
        "        top10[j]=0;\n",
        "      top10[j]+=1;\n",
        "      if(j not in toplikes.keys()):\n",
        "        toplikes[j]=0;\n",
        "      toplikes[j]+=i.favorite_count;\n",
        "      if(j not in topretweet.keys()):\n",
        "        topretweet[j]=0;\n",
        "      topretweet[j]+=i.retweet_count;\n",
        "\n",
        "sortedtop10=sorted(top10.items(),reverse=True,key=lambda item: item[1]);\n",
        "print(sortedtop10[1:11])\n",
        "\n",
        "toplikes=sorted(toplikes.items(),reverse=True,key=lambda item: item[1]);\n",
        "print(toplikes[1:11])\n",
        "\n",
        "\n",
        "topretweet=sorted(topretweet.items(),reverse=True,key=lambda item: item[1]);\n",
        "print(topretweet[1:11])"
      ],
      "execution_count": null,
      "outputs": [
        {
          "output_type": "stream",
          "text": [
            "[('#worldbookday.', 110), ('#books', 77), ('#iraq,', 50), ('#worldbookday,', 41), ('#worldbookday.\\n\\nretweet', 32), ('#worldbookday!', 29), (\"#worldbookday📚!\\n\\nlet's\", 28), ('#worldbookday2021', 26), ('#kkr', 26), ('#gyan_ganga', 20)]\n",
            "[('#worldbookday', 245), ('#worldbookday!', 37), ('#worldbookday,', 36), ('#tovejansson', 34), ('#books', 25), ('#bookreading', 21), ('#welttagdesbuches', 16), ('#worldbooknight!', 16), ('#gyan_ganga', 15), ('#worldbookday\\nhow', 13)]\n",
            "[('#iraq,', 47395), ('#worldbookday.\\n\\nretweet', 19805), ('#worldbookday.', 10340), ('#worldbookday', 10036), (\"#worldbookday📚!\\n\\nlet's\", 7697), (\"#globalgoals.\\n\\nfriday's\", 1529), ('#kkr', 875), ('#covidemergency2021', 650), ('#புத்தகதினம்', 545), ('#valimai', 545)]\n"
          ],
          "name": "stdout"
        }
      ]
    },
    {
      "cell_type": "code",
      "metadata": {
        "colab": {
          "base_uri": "https://localhost:8080/",
          "height": 202
        },
        "id": "zfRkfBaesjf8",
        "outputId": "1ef6a386-c430-468f-bbe2-74e9ebfda8ba"
      },
      "source": [
        "dataframe=pd.DataFrame(data=trendingtweet, columns=['ID','Text']);\n",
        "dataframe.head()\n"
      ],
      "execution_count": null,
      "outputs": [
        {
          "output_type": "execute_result",
          "data": {
            "text/html": [
              "<div>\n",
              "<style scoped>\n",
              "    .dataframe tbody tr th:only-of-type {\n",
              "        vertical-align: middle;\n",
              "    }\n",
              "\n",
              "    .dataframe tbody tr th {\n",
              "        vertical-align: top;\n",
              "    }\n",
              "\n",
              "    .dataframe thead th {\n",
              "        text-align: right;\n",
              "    }\n",
              "</style>\n",
              "<table border=\"1\" class=\"dataframe\">\n",
              "  <thead>\n",
              "    <tr style=\"text-align: right;\">\n",
              "      <th></th>\n",
              "      <th>ID</th>\n",
              "      <th>Text</th>\n",
              "    </tr>\n",
              "  </thead>\n",
              "  <tbody>\n",
              "    <tr>\n",
              "      <th>0</th>\n",
              "      <td>1385521338622771206</td>\n",
              "      <td>RT @ipskabra: दुनिया की हर महान शख्सियत रोज़ अ...</td>\n",
              "    </tr>\n",
              "    <tr>\n",
              "      <th>1</th>\n",
              "      <td>1385521337494474753</td>\n",
              "      <td>RT @NobelPrize: \"I think the most fun and myst...</td>\n",
              "    </tr>\n",
              "    <tr>\n",
              "      <th>2</th>\n",
              "      <td>1385521336781398020</td>\n",
              "      <td>RT @BidhuriRajendra: उत्तम विचारों से युक्त पु...</td>\n",
              "    </tr>\n",
              "    <tr>\n",
              "      <th>3</th>\n",
              "      <td>1385521336630480899</td>\n",
              "      <td>RT @DrSandeepJSP: Today a reader, tomorrow a l...</td>\n",
              "    </tr>\n",
              "    <tr>\n",
              "      <th>4</th>\n",
              "      <td>1385521336118910976</td>\n",
              "      <td>RT @TheBishF1: Since today is #WorldBookDay, i...</td>\n",
              "    </tr>\n",
              "  </tbody>\n",
              "</table>\n",
              "</div>"
            ],
            "text/plain": [
              "                    ID                                               Text\n",
              "0  1385521338622771206  RT @ipskabra: दुनिया की हर महान शख्सियत रोज़ अ...\n",
              "1  1385521337494474753  RT @NobelPrize: \"I think the most fun and myst...\n",
              "2  1385521336781398020  RT @BidhuriRajendra: उत्तम विचारों से युक्त पु...\n",
              "3  1385521336630480899  RT @DrSandeepJSP: Today a reader, tomorrow a l...\n",
              "4  1385521336118910976  RT @TheBishF1: Since today is #WorldBookDay, i..."
            ]
          },
          "metadata": {
            "tags": []
          },
          "execution_count": 13
        }
      ]
    },
    {
      "cell_type": "code",
      "metadata": {
        "id": "KiNi_G28rxEH"
      },
      "source": [
        "dataframe.to_csv(\"trends.csv\")"
      ],
      "execution_count": null,
      "outputs": []
    },
    {
      "cell_type": "code",
      "metadata": {
        "colab": {
          "base_uri": "https://localhost:8080/",
          "height": 1000
        },
        "id": "5KUwGdwbKAkH",
        "outputId": "dcd3c38f-0d70-4ea1-f4e2-9d7a55ce2df1"
      },
      "source": [
        "from matplotlib import pyplot as plt\n",
        "\n",
        "def makeplot(d1,x_label,y_label):\n",
        "  x=[];y=[];\n",
        "  for i in d1[2:11]:\n",
        "    x.append(i[0]);\n",
        "    y.append(i[1]);\n",
        "  plt.bar(x,y,align=\"center\",alpha=0.5);\n",
        "  plt.ylabel(y_label);\n",
        "  plt.xlabel(x_label);\n",
        "  plt.xticks(x)\n",
        "  plt.xticks(rotation = 90)\n",
        "  plt.show()\n",
        "\n",
        "makeplot(toplikes, \"Top Liked hashtags\",\"Number of likes\");\n",
        "makeplot(topretweet, \"Top retweet hashtags\",\"Number of retweet\");\n",
        "makeplot(sortedtop10, \"Top occured hashtags\",\"Number of occurences\");"
      ],
      "execution_count": null,
      "outputs": [
        {
          "output_type": "display_data",
          "data": {
            "image/png": "[encoded data removed]",
            "text/plain": [
              "<Figure size 432x288 with 1 Axes>"
            ]
          },
          "metadata": {
            "tags": [],
            "needs_background": "light"
          }
        },
        {
          "output_type": "stream",
          "text": [
            "/usr/local/lib/python3.7/dist-packages/matplotlib/backends/backend_agg.py:214: RuntimeWarning: Glyph 128218 missing from current font.\n",
            "  font.set_text(s, 0.0, flags=flags)\n",
            "/usr/local/lib/python3.7/dist-packages/matplotlib/backends/backend_agg.py:214: RuntimeWarning: Glyph 2986 missing from current font.\n",
            "  font.set_text(s, 0.0, flags=flags)\n",
            "/usr/local/lib/python3.7/dist-packages/matplotlib/backends/backend_agg.py:214: RuntimeWarning: Glyph 3009 missing from current font.\n",
            "  font.set_text(s, 0.0, flags=flags)\n",
            "/usr/local/lib/python3.7/dist-packages/matplotlib/backends/backend_agg.py:214: RuntimeWarning: Glyph 2980 missing from current font.\n",
            "  font.set_text(s, 0.0, flags=flags)\n",
            "/usr/local/lib/python3.7/dist-packages/matplotlib/backends/backend_agg.py:214: RuntimeWarning: Glyph 3021 missing from current font.\n",
            "  font.set_text(s, 0.0, flags=flags)\n",
            "/usr/local/lib/python3.7/dist-packages/matplotlib/backends/backend_agg.py:214: RuntimeWarning: Glyph 2965 missing from current font.\n",
            "  font.set_text(s, 0.0, flags=flags)\n",
            "/usr/local/lib/python3.7/dist-packages/matplotlib/backends/backend_agg.py:214: RuntimeWarning: Glyph 3007 missing from current font.\n",
            "  font.set_text(s, 0.0, flags=flags)\n",
            "/usr/local/lib/python3.7/dist-packages/matplotlib/backends/backend_agg.py:214: RuntimeWarning: Glyph 2985 missing from current font.\n",
            "  font.set_text(s, 0.0, flags=flags)\n",
            "/usr/local/lib/python3.7/dist-packages/matplotlib/backends/backend_agg.py:214: RuntimeWarning: Glyph 2990 missing from current font.\n",
            "  font.set_text(s, 0.0, flags=flags)\n",
            "/usr/local/lib/python3.7/dist-packages/matplotlib/backends/backend_agg.py:183: RuntimeWarning: Glyph 128218 missing from current font.\n",
            "  font.set_text(s, 0, flags=flags)\n",
            "/usr/local/lib/python3.7/dist-packages/matplotlib/backends/backend_agg.py:183: RuntimeWarning: Glyph 2986 missing from current font.\n",
            "  font.set_text(s, 0, flags=flags)\n",
            "/usr/local/lib/python3.7/dist-packages/matplotlib/backends/backend_agg.py:183: RuntimeWarning: Glyph 3009 missing from current font.\n",
            "  font.set_text(s, 0, flags=flags)\n",
            "/usr/local/lib/python3.7/dist-packages/matplotlib/backends/backend_agg.py:183: RuntimeWarning: Glyph 2980 missing from current font.\n",
            "  font.set_text(s, 0, flags=flags)\n",
            "/usr/local/lib/python3.7/dist-packages/matplotlib/backends/backend_agg.py:183: RuntimeWarning: Glyph 3021 missing from current font.\n",
            "  font.set_text(s, 0, flags=flags)\n",
            "/usr/local/lib/python3.7/dist-packages/matplotlib/backends/backend_agg.py:183: RuntimeWarning: Glyph 2965 missing from current font.\n",
            "  font.set_text(s, 0, flags=flags)\n",
            "/usr/local/lib/python3.7/dist-packages/matplotlib/backends/backend_agg.py:183: RuntimeWarning: Glyph 3007 missing from current font.\n",
            "  font.set_text(s, 0, flags=flags)\n",
            "/usr/local/lib/python3.7/dist-packages/matplotlib/backends/backend_agg.py:183: RuntimeWarning: Glyph 2985 missing from current font.\n",
            "  font.set_text(s, 0, flags=flags)\n",
            "/usr/local/lib/python3.7/dist-packages/matplotlib/backends/backend_agg.py:183: RuntimeWarning: Glyph 2990 missing from current font.\n",
            "  font.set_text(s, 0, flags=flags)\n"
          ],
          "name": "stderr"
        },
        {
          "output_type": "display_data",
          "data": {
            "image/png": "[encoded data removed]",
            "text/plain": [
              "<Figure size 432x288 with 1 Axes>"
            ]
          },
          "metadata": {
            "tags": [],
            "needs_background": "light"
          }
        },
        {
          "output_type": "display_data",
          "data": {
            "image/png": "[encoded data removed]",
            "text/plain": [
              "<Figure size 432x288 with 1 Axes>"
            ]
          },
          "metadata": {
            "tags": [],
            "needs_background": "light"
          }
        }
      ]
    },
    {
      "cell_type": "code",
      "metadata": {
        "colab": {
          "base_uri": "https://localhost:8080/"
        },
        "id": "MIjEY7BzHFlp",
        "outputId": "4f22750e-b36d-4cb3-d446-57b04c65a392"
      },
      "source": [
        "t1=api.get_status(1353658978840924160)\n",
        "t2=api.get_status(1347032418809565184)\n",
        "\n",
        "print(t1)\n",
        "print(t2)"
      ],
      "execution_count": null,
      "outputs": [
        {
          "output_type": "stream",
          "text": [
            "Status(_api=<tweepy.api.API object at 0x7fd4cb3478d0>, _json={'created_at': 'Mon Jan 25 11:00:24 +0000 2021', 'id': 1353658978840924160, 'id_str': '1353658978840924160', 'text': '@MahaCyber1 @AnilSinghvi_ @cpcybd @CPDelhi @PMOIndia \\n9718201526 this number whatsapp calling me from #fraudloanapp… https://t.co/7FKoEfcftH', 'truncated': True, 'entities': {'hashtags': [{'text': 'fraudloanapp', 'indices': [102, 115]}], 'symbols': [], 'user_mentions': [{'screen_name': 'MahaCyber1', 'name': 'Maharashtra Cyber', 'id': 913298364275367936, 'id_str': '913298364275367936', 'indices': [0, 11]}, {'screen_name': 'AnilSinghvi_', 'name': 'Anil Singhvi Zee Business', 'id': 387526400, 'id_str': '387526400', 'indices': [12, 25]}, {'screen_name': 'cpcybd', 'name': 'CP Cyberabad', 'id': 3191933342, 'id_str': '3191933342', 'indices': [26, 33]}, {'screen_name': 'CPDelhi', 'name': 'CP Delhi #DilKiPolice', 'id': 626218913, 'id_str': '626218913', 'indices': [34, 42]}, {'screen_name': 'PMOIndia', 'name': 'PMO India', 'id': 471741741, 'id_str': '471741741', 'indices': [43, 52]}], 'urls': [{'url': 'https://t.co/7FKoEfcftH', 'expanded_url': 'https://twitter.com/i/web/status/1353658978840924160', 'display_url': 'twitter.com/i/web/status/1…', 'indices': [117, 140]}]}, 'source': '<a href=\"http://twitter.com/download/android\" rel=\"nofollow\">Twitter for Android</a>', 'in_reply_to_status_id': None, 'in_reply_to_status_id_str': None, 'in_reply_to_user_id': 913298364275367936, 'in_reply_to_user_id_str': '913298364275367936', 'in_reply_to_screen_name': 'MahaCyber1', 'user': {'id': 1342339908992524288, 'id_str': '1342339908992524288', 'name': 'Rasik Phalake', 'screen_name': 'phalake_rasik', 'location': '', 'description': '', 'url': None, 'entities': {'description': {'urls': []}}, 'protected': False, 'followers_count': 6, 'friends_count': 38, 'listed_count': 0, 'created_at': 'Fri Dec 25 05:22:41 +0000 2020', 'favourites_count': 17, 'utc_offset': None, 'time_zone': None, 'geo_enabled': False, 'verified': False, 'statuses_count': 75, 'lang': None, 'contributors_enabled': False, 'is_translator': False, 'is_translation_enabled': False, 'profile_background_color': 'F5F8FA', 'profile_background_image_url': None, 'profile_background_image_url_https': None, 'profile_background_tile': False, 'profile_image_url': 'http://pbs.twimg.com/profile_images/1342340897422209024/d_CjkUoG_normal.jpg', 'profile_image_url_https': 'https://pbs.twimg.com/profile_images/1342340897422209024/d_CjkUoG_normal.jpg', 'profile_link_color': '1DA1F2', 'profile_sidebar_border_color': 'C0DEED', 'profile_sidebar_fill_color': 'DDEEF6', 'profile_text_color': '333333', 'profile_use_background_image': True, 'has_extended_profile': True, 'default_profile': True, 'default_profile_image': False, 'following': False, 'follow_request_sent': False, 'notifications': False, 'translator_type': 'none', 'withheld_in_countries': []}, 'geo': None, 'coordinates': None, 'place': None, 'contributors': None, 'is_quote_status': False, 'retweet_count': 1, 'favorite_count': 1, 'favorited': False, 'retweeted': False, 'lang': 'en'}, created_at=datetime.datetime(2021, 1, 25, 11, 0, 24), id=1353658978840924160, id_str='1353658978840924160', text='@MahaCyber1 @AnilSinghvi_ @cpcybd @CPDelhi @PMOIndia \\n9718201526 this number whatsapp calling me from #fraudloanapp… https://t.co/7FKoEfcftH', truncated=True, entities={'hashtags': [{'text': 'fraudloanapp', 'indices': [102, 115]}], 'symbols': [], 'user_mentions': [{'screen_name': 'MahaCyber1', 'name': 'Maharashtra Cyber', 'id': 913298364275367936, 'id_str': '913298364275367936', 'indices': [0, 11]}, {'screen_name': 'AnilSinghvi_', 'name': 'Anil Singhvi Zee Business', 'id': 387526400, 'id_str': '387526400', 'indices': [12, 25]}, {'screen_name': 'cpcybd', 'name': 'CP Cyberabad', 'id': 3191933342, 'id_str': '3191933342', 'indices': [26, 33]}, {'screen_name': 'CPDelhi', 'name': 'CP Delhi #DilKiPolice', 'id': 626218913, 'id_str': '626218913', 'indices': [34, 42]}, {'screen_name': 'PMOIndia', 'name': 'PMO India', 'id': 471741741, 'id_str': '471741741', 'indices': [43, 52]}], 'urls': [{'url': 'https://t.co/7FKoEfcftH', 'expanded_url': 'https://twitter.com/i/web/status/1353658978840924160', 'display_url': 'twitter.com/i/web/status/1…', 'indices': [117, 140]}]}, source='Twitter for Android', source_url='http://twitter.com/download/android', in_reply_to_status_id=None, in_reply_to_status_id_str=None, in_reply_to_user_id=913298364275367936, in_reply_to_user_id_str='913298364275367936', in_reply_to_screen_name='MahaCyber1', author=User(_api=<tweepy.api.API object at 0x7fd4cb3478d0>, _json={'id': 1342339908992524288, 'id_str': '1342339908992524288', 'name': 'Rasik Phalake', 'screen_name': 'phalake_rasik', 'location': '', 'description': '', 'url': None, 'entities': {'description': {'urls': []}}, 'protected': False, 'followers_count': 6, 'friends_count': 38, 'listed_count': 0, 'created_at': 'Fri Dec 25 05:22:41 +0000 2020', 'favourites_count': 17, 'utc_offset': None, 'time_zone': None, 'geo_enabled': False, 'verified': False, 'statuses_count': 75, 'lang': None, 'contributors_enabled': False, 'is_translator': False, 'is_translation_enabled': False, 'profile_background_color': 'F5F8FA', 'profile_background_image_url': None, 'profile_background_image_url_https': None, 'profile_background_tile': False, 'profile_image_url': 'http://pbs.twimg.com/profile_images/1342340897422209024/d_CjkUoG_normal.jpg', 'profile_image_url_https': 'https://pbs.twimg.com/profile_images/1342340897422209024/d_CjkUoG_normal.jpg', 'profile_link_color': '1DA1F2', 'profile_sidebar_border_color': 'C0DEED', 'profile_sidebar_fill_color': 'DDEEF6', 'profile_text_color': '333333', 'profile_use_background_image': True, 'has_extended_profile': True, 'default_profile': True, 'default_profile_image': False, 'following': False, 'follow_request_sent': False, 'notifications': False, 'translator_type': 'none', 'withheld_in_countries': []}, id=1342339908992524288, id_str='1342339908992524288', name='Rasik Phalake', screen_name='phalake_rasik', location='', description='', url=None, entities={'description': {'urls': []}}, protected=False, followers_count=6, friends_count=38, listed_count=0, created_at=datetime.datetime(2020, 12, 25, 5, 22, 41), favourites_count=17, utc_offset=None, time_zone=None, geo_enabled=False, verified=False, statuses_count=75, lang=None, contributors_enabled=False, is_translator=False, is_translation_enabled=False, profile_background_color='F5F8FA', profile_background_image_url=None, profile_background_image_url_https=None, profile_background_tile=False, profile_image_url='http://pbs.twimg.com/profile_images/1342340897422209024/d_CjkUoG_normal.jpg', profile_image_url_https='https://pbs.twimg.com/profile_images/1342340897422209024/d_CjkUoG_normal.jpg', profile_link_color='1DA1F2', profile_sidebar_border_color='C0DEED', profile_sidebar_fill_color='DDEEF6', profile_text_color='333333', profile_use_background_image=True, has_extended_profile=True, default_profile=True, default_profile_image=False, following=False, follow_request_sent=False, notifications=False, translator_type='none', withheld_in_countries=[]), user=User(_api=<tweepy.api.API object at 0x7fd4cb3478d0>, _json={'id': 1342339908992524288, 'id_str': '1342339908992524288', 'name': 'Rasik Phalake', 'screen_name': 'phalake_rasik', 'location': '', 'description': '', 'url': None, 'entities': {'description': {'urls': []}}, 'protected': False, 'followers_count': 6, 'friends_count': 38, 'listed_count': 0, 'created_at': 'Fri Dec 25 05:22:41 +0000 2020', 'favourites_count': 17, 'utc_offset': None, 'time_zone': None, 'geo_enabled': False, 'verified': False, 'statuses_count': 75, 'lang': None, 'contributors_enabled': False, 'is_translator': False, 'is_translation_enabled': False, 'profile_background_color': 'F5F8FA', 'profile_background_image_url': None, 'profile_background_image_url_https': None, 'profile_background_tile': False, 'profile_image_url': 'http://pbs.twimg.com/profile_images/1342340897422209024/d_CjkUoG_normal.jpg', 'profile_image_url_https': 'https://pbs.twimg.com/profile_images/1342340897422209024/d_CjkUoG_normal.jpg', 'profile_link_color': '1DA1F2', 'profile_sidebar_border_color': 'C0DEED', 'profile_sidebar_fill_color': 'DDEEF6', 'profile_text_color': '333333', 'profile_use_background_image': True, 'has_extended_profile': True, 'default_profile': True, 'default_profile_image': False, 'following': False, 'follow_request_sent': False, 'notifications': False, 'translator_type': 'none', 'withheld_in_countries': []}, id=1342339908992524288, id_str='1342339908992524288', name='Rasik Phalake', screen_name='phalake_rasik', location='', description='', url=None, entities={'description': {'urls': []}}, protected=False, followers_count=6, friends_count=38, listed_count=0, created_at=datetime.datetime(2020, 12, 25, 5, 22, 41), favourites_count=17, utc_offset=None, time_zone=None, geo_enabled=False, verified=False, statuses_count=75, lang=None, contributors_enabled=False, is_translator=False, is_translation_enabled=False, profile_background_color='F5F8FA', profile_background_image_url=None, profile_background_image_url_https=None, profile_background_tile=False, profile_image_url='http://pbs.twimg.com/profile_images/1342340897422209024/d_CjkUoG_normal.jpg', profile_image_url_https='https://pbs.twimg.com/profile_images/1342340897422209024/d_CjkUoG_normal.jpg', profile_link_color='1DA1F2', profile_sidebar_border_color='C0DEED', profile_sidebar_fill_color='DDEEF6', profile_text_color='333333', profile_use_background_image=True, has_extended_profile=True, default_profile=True, default_profile_image=False, following=False, follow_request_sent=False, notifications=False, translator_type='none', withheld_in_countries=[]), geo=None, coordinates=None, place=None, contributors=None, is_quote_status=False, retweet_count=1, favorite_count=1, favorited=False, retweeted=False, lang='en')\n",
            "Status(_api=<tweepy.api.API object at 0x7fd4cb3478d0>, _json={'created_at': 'Thu Jan 07 04:08:49 +0000 2021', 'id': 1347032418809565184, 'id_str': '1347032418809565184', 'text': \"@DelhiPolice sir I'm receiving a whatsapp message from +917439666464. Firstly they were saying that I've won 25 Lac… https://t.co/bzYriJA3bT\", 'truncated': True, 'entities': {'hashtags': [], 'symbols': [], 'user_mentions': [{'screen_name': 'DelhiPolice', 'name': '#DilKiPolice Delhi Police', 'id': 1850705408, 'id_str': '1850705408', 'indices': [0, 12]}], 'urls': [{'url': 'https://t.co/bzYriJA3bT', 'expanded_url': 'https://twitter.com/i/web/status/1347032418809565184', 'display_url': 'twitter.com/i/web/status/1…', 'indices': [117, 140]}]}, 'source': '<a href=\"https://mobile.twitter.com\" rel=\"nofollow\">Twitter Web App</a>', 'in_reply_to_status_id': None, 'in_reply_to_status_id_str': None, 'in_reply_to_user_id': 1850705408, 'in_reply_to_user_id_str': '1850705408', 'in_reply_to_screen_name': 'DelhiPolice', 'user': {'id': 1172215077186916352, 'id_str': '1172215077186916352', 'name': 'MOHD HAMZAH', 'screen_name': 'md_hamza44', 'location': 'Delhi, India', 'description': 'Being a fan is not surprising making your fan is surprising', 'url': None, 'entities': {'description': {'urls': []}}, 'protected': False, 'followers_count': 8, 'friends_count': 75, 'listed_count': 0, 'created_at': 'Thu Sep 12 18:27:23 +0000 2019', 'favourites_count': 1520, 'utc_offset': None, 'time_zone': None, 'geo_enabled': False, 'verified': False, 'statuses_count': 667, 'lang': None, 'contributors_enabled': False, 'is_translator': False, 'is_translation_enabled': False, 'profile_background_color': 'F5F8FA', 'profile_background_image_url': None, 'profile_background_image_url_https': None, 'profile_background_tile': False, 'profile_image_url': 'http://pbs.twimg.com/profile_images/1362995002469617664/ggOGSFiJ_normal.jpg', 'profile_image_url_https': 'https://pbs.twimg.com/profile_images/1362995002469617664/ggOGSFiJ_normal.jpg', 'profile_banner_url': 'https://pbs.twimg.com/profile_banners/1172215077186916352/1600360984', 'profile_link_color': '1DA1F2', 'profile_sidebar_border_color': 'C0DEED', 'profile_sidebar_fill_color': 'DDEEF6', 'profile_text_color': '333333', 'profile_use_background_image': True, 'has_extended_profile': True, 'default_profile': True, 'default_profile_image': False, 'following': False, 'follow_request_sent': False, 'notifications': False, 'translator_type': 'none', 'withheld_in_countries': []}, 'geo': None, 'coordinates': None, 'place': None, 'contributors': None, 'is_quote_status': False, 'retweet_count': 0, 'favorite_count': 1, 'favorited': False, 'retweeted': False, 'possibly_sensitive': False, 'possibly_sensitive_appealable': False, 'lang': 'en'}, created_at=datetime.datetime(2021, 1, 7, 4, 8, 49), id=1347032418809565184, id_str='1347032418809565184', text=\"@DelhiPolice sir I'm receiving a whatsapp message from +917439666464. Firstly they were saying that I've won 25 Lac… https://t.co/bzYriJA3bT\", truncated=True, entities={'hashtags': [], 'symbols': [], 'user_mentions': [{'screen_name': 'DelhiPolice', 'name': '#DilKiPolice Delhi Police', 'id': 1850705408, 'id_str': '1850705408', 'indices': [0, 12]}], 'urls': [{'url': 'https://t.co/bzYriJA3bT', 'expanded_url': 'https://twitter.com/i/web/status/1347032418809565184', 'display_url': 'twitter.com/i/web/status/1…', 'indices': [117, 140]}]}, source='Twitter Web App', source_url='https://mobile.twitter.com', in_reply_to_status_id=None, in_reply_to_status_id_str=None, in_reply_to_user_id=1850705408, in_reply_to_user_id_str='1850705408', in_reply_to_screen_name='DelhiPolice', author=User(_api=<tweepy.api.API object at 0x7fd4cb3478d0>, _json={'id': 1172215077186916352, 'id_str': '1172215077186916352', 'name': 'MOHD HAMZAH', 'screen_name': 'md_hamza44', 'location': 'Delhi, India', 'description': 'Being a fan is not surprising making your fan is surprising', 'url': None, 'entities': {'description': {'urls': []}}, 'protected': False, 'followers_count': 8, 'friends_count': 75, 'listed_count': 0, 'created_at': 'Thu Sep 12 18:27:23 +0000 2019', 'favourites_count': 1520, 'utc_offset': None, 'time_zone': None, 'geo_enabled': False, 'verified': False, 'statuses_count': 667, 'lang': None, 'contributors_enabled': False, 'is_translator': False, 'is_translation_enabled': False, 'profile_background_color': 'F5F8FA', 'profile_background_image_url': None, 'profile_background_image_url_https': None, 'profile_background_tile': False, 'profile_image_url': 'http://pbs.twimg.com/profile_images/1362995002469617664/ggOGSFiJ_normal.jpg', 'profile_image_url_https': 'https://pbs.twimg.com/profile_images/1362995002469617664/ggOGSFiJ_normal.jpg', 'profile_banner_url': 'https://pbs.twimg.com/profile_banners/1172215077186916352/1600360984', 'profile_link_color': '1DA1F2', 'profile_sidebar_border_color': 'C0DEED', 'profile_sidebar_fill_color': 'DDEEF6', 'profile_text_color': '333333', 'profile_use_background_image': True, 'has_extended_profile': True, 'default_profile': True, 'default_profile_image': False, 'following': False, 'follow_request_sent': False, 'notifications': False, 'translator_type': 'none', 'withheld_in_countries': []}, id=1172215077186916352, id_str='1172215077186916352', name='MOHD HAMZAH', screen_name='md_hamza44', location='Delhi, India', description='Being a fan is not surprising making your fan is surprising', url=None, entities={'description': {'urls': []}}, protected=False, followers_count=8, friends_count=75, listed_count=0, created_at=datetime.datetime(2019, 9, 12, 18, 27, 23), favourites_count=1520, utc_offset=None, time_zone=None, geo_enabled=False, verified=False, statuses_count=667, lang=None, contributors_enabled=False, is_translator=False, is_translation_enabled=False, profile_background_color='F5F8FA', profile_background_image_url=None, profile_background_image_url_https=None, profile_background_tile=False, profile_image_url='http://pbs.twimg.com/profile_images/1362995002469617664/ggOGSFiJ_normal.jpg', profile_image_url_https='https://pbs.twimg.com/profile_images/1362995002469617664/ggOGSFiJ_normal.jpg', profile_banner_url='https://pbs.twimg.com/profile_banners/1172215077186916352/1600360984', profile_link_color='1DA1F2', profile_sidebar_border_color='C0DEED', profile_sidebar_fill_color='DDEEF6', profile_text_color='333333', profile_use_background_image=True, has_extended_profile=True, default_profile=True, default_profile_image=False, following=False, follow_request_sent=False, notifications=False, translator_type='none', withheld_in_countries=[]), user=User(_api=<tweepy.api.API object at 0x7fd4cb3478d0>, _json={'id': 1172215077186916352, 'id_str': '1172215077186916352', 'name': 'MOHD HAMZAH', 'screen_name': 'md_hamza44', 'location': 'Delhi, India', 'description': 'Being a fan is not surprising making your fan is surprising', 'url': None, 'entities': {'description': {'urls': []}}, 'protected': False, 'followers_count': 8, 'friends_count': 75, 'listed_count': 0, 'created_at': 'Thu Sep 12 18:27:23 +0000 2019', 'favourites_count': 1520, 'utc_offset': None, 'time_zone': None, 'geo_enabled': False, 'verified': False, 'statuses_count': 667, 'lang': None, 'contributors_enabled': False, 'is_translator': False, 'is_translation_enabled': False, 'profile_background_color': 'F5F8FA', 'profile_background_image_url': None, 'profile_background_image_url_https': None, 'profile_background_tile': False, 'profile_image_url': 'http://pbs.twimg.com/profile_images/1362995002469617664/ggOGSFiJ_normal.jpg', 'profile_image_url_https': 'https://pbs.twimg.com/profile_images/1362995002469617664/ggOGSFiJ_normal.jpg', 'profile_banner_url': 'https://pbs.twimg.com/profile_banners/1172215077186916352/1600360984', 'profile_link_color': '1DA1F2', 'profile_sidebar_border_color': 'C0DEED', 'profile_sidebar_fill_color': 'DDEEF6', 'profile_text_color': '333333', 'profile_use_background_image': True, 'has_extended_profile': True, 'default_profile': True, 'default_profile_image': False, 'following': False, 'follow_request_sent': False, 'notifications': False, 'translator_type': 'none', 'withheld_in_countries': []}, id=1172215077186916352, id_str='1172215077186916352', name='MOHD HAMZAH', screen_name='md_hamza44', location='Delhi, India', description='Being a fan is not surprising making your fan is surprising', url=None, entities={'description': {'urls': []}}, protected=False, followers_count=8, friends_count=75, listed_count=0, created_at=datetime.datetime(2019, 9, 12, 18, 27, 23), favourites_count=1520, utc_offset=None, time_zone=None, geo_enabled=False, verified=False, statuses_count=667, lang=None, contributors_enabled=False, is_translator=False, is_translation_enabled=False, profile_background_color='F5F8FA', profile_background_image_url=None, profile_background_image_url_https=None, profile_background_tile=False, profile_image_url='http://pbs.twimg.com/profile_images/1362995002469617664/ggOGSFiJ_normal.jpg', profile_image_url_https='https://pbs.twimg.com/profile_images/1362995002469617664/ggOGSFiJ_normal.jpg', profile_banner_url='https://pbs.twimg.com/profile_banners/1172215077186916352/1600360984', profile_link_color='1DA1F2', profile_sidebar_border_color='C0DEED', profile_sidebar_fill_color='DDEEF6', profile_text_color='333333', profile_use_background_image=True, has_extended_profile=True, default_profile=True, default_profile_image=False, following=False, follow_request_sent=False, notifications=False, translator_type='none', withheld_in_countries=[]), geo=None, coordinates=None, place=None, contributors=None, is_quote_status=False, retweet_count=0, favorite_count=1, favorited=False, retweeted=False, possibly_sensitive=False, possibly_sensitive_appealable=False, lang='en')\n"
          ],
          "name": "stdout"
        }
      ]
    },
    {
      "cell_type": "code",
      "metadata": {
        "id": "TkHh4CUj_11z"
      },
      "source": [
        "#Collecting data for most occured\n",
        "sortedmost={};\n",
        "for i in sortedtop10[2:12]:\n",
        "  hashtag=i[0];\n",
        "  l1=[];\n",
        "  for i in tw.Cursor(api.search, q=hashtag).items(1000):\n",
        "    if(i.lang=='en'):\n",
        "      l1.append(i);\n",
        "  sortedmost[hashtag]=l1;"
      ],
      "execution_count": null,
      "outputs": []
    },
    {
      "cell_type": "code",
      "metadata": {
        "id": "z4rRsxTJOsgA"
      },
      "source": [
        "with open('mostoccured.pickle', 'wb') as write:\n",
        "    pickle.dump(sortedmost, write, protocol=pickle.HIGHEST_PROTOCOL)"
      ],
      "execution_count": null,
      "outputs": []
    },
    {
      "cell_type": "code",
      "metadata": {
        "id": "mTXh8lpIOy0K"
      },
      "source": [
        "with open('mostoccured.pickle', 'rb') as read: \n",
        "     sortedmost= pickle.load(read)"
      ],
      "execution_count": null,
      "outputs": []
    },
    {
      "cell_type": "markdown",
      "metadata": {
        "id": "bSUZ4O63NKyF"
      },
      "source": [
        ""
      ]
    },
    {
      "cell_type": "code",
      "metadata": {
        "id": "HQVMEa4kGb6Q"
      },
      "source": [
        "#Collect data for most liked hashtags\n",
        "sortedmostliked={};\n",
        "for i in toplikes[2:12]:\n",
        "  hashtag=i[0];\n",
        "  l1=[];\n",
        "  for i in tw.Cursor(api.search, q=hashtag).items(1000):\n",
        "    if(i.lang=='en'):\n",
        "      l1.append(i);\n",
        "  sortedmostliked[hashtag]=l1;"
      ],
      "execution_count": null,
      "outputs": []
    },
    {
      "cell_type": "code",
      "metadata": {
        "id": "CtNkA0iePMhD"
      },
      "source": [
        "with open('mostliked.pickle', 'wb') as write:\n",
        "    pickle.dump(sortedmostliked, write, protocol=pickle.HIGHEST_PROTOCOL)"
      ],
      "execution_count": null,
      "outputs": []
    },
    {
      "cell_type": "markdown",
      "metadata": {
        "id": "maFORkPBhnTa"
      },
      "source": [
        ""
      ]
    },
    {
      "cell_type": "code",
      "metadata": {
        "id": "Enp_jHb3PSt4"
      },
      "source": [
        "with open('mostliked.pickle', 'rb') as read: \n",
        "     sortedmostliked= pickle.load(read)"
      ],
      "execution_count": null,
      "outputs": []
    },
    {
      "cell_type": "code",
      "metadata": {
        "colab": {
          "base_uri": "https://localhost:8080/",
          "height": 219
        },
        "id": "DuWy1PcFsWb1",
        "outputId": "73e1e916-7835-4d5f-f65e-5a29063302f1"
      },
      "source": [
        "print(len(sortedmost));\n",
        "data1=[]\n",
        "for i in sortedmost:\n",
        "  for j in sortedmost[i]:\n",
        "    data1.append(j.id_str);\n",
        "dataframe1=pd.DataFrame(data=data1, columns=['ID']);\n",
        "dataframe1.head()"
      ],
      "execution_count": null,
      "outputs": [
        {
          "output_type": "stream",
          "text": [
            "10\n"
          ],
          "name": "stdout"
        },
        {
          "output_type": "execute_result",
          "data": {
            "text/html": [
              "<div>\n",
              "<style scoped>\n",
              "    .dataframe tbody tr th:only-of-type {\n",
              "        vertical-align: middle;\n",
              "    }\n",
              "\n",
              "    .dataframe tbody tr th {\n",
              "        vertical-align: top;\n",
              "    }\n",
              "\n",
              "    .dataframe thead th {\n",
              "        text-align: right;\n",
              "    }\n",
              "</style>\n",
              "<table border=\"1\" class=\"dataframe\">\n",
              "  <thead>\n",
              "    <tr style=\"text-align: right;\">\n",
              "      <th></th>\n",
              "      <th>ID</th>\n",
              "    </tr>\n",
              "  </thead>\n",
              "  <tbody>\n",
              "    <tr>\n",
              "      <th>0</th>\n",
              "      <td>1385523951074381824</td>\n",
              "    </tr>\n",
              "    <tr>\n",
              "      <th>1</th>\n",
              "      <td>1385523948062973956</td>\n",
              "    </tr>\n",
              "    <tr>\n",
              "      <th>2</th>\n",
              "      <td>1385523944908804097</td>\n",
              "    </tr>\n",
              "    <tr>\n",
              "      <th>3</th>\n",
              "      <td>1385523943172280321</td>\n",
              "    </tr>\n",
              "    <tr>\n",
              "      <th>4</th>\n",
              "      <td>1385523930694258688</td>\n",
              "    </tr>\n",
              "  </tbody>\n",
              "</table>\n",
              "</div>"
            ],
            "text/plain": [
              "                    ID\n",
              "0  1385523951074381824\n",
              "1  1385523948062973956\n",
              "2  1385523944908804097\n",
              "3  1385523943172280321\n",
              "4  1385523930694258688"
            ]
          },
          "metadata": {
            "tags": []
          },
          "execution_count": 23
        }
      ]
    },
    {
      "cell_type": "code",
      "metadata": {
        "id": "XnpVXYf53k9r"
      },
      "source": [
        "dataframe1.to_csv(\"sortedmost.csv\")"
      ],
      "execution_count": null,
      "outputs": []
    },
    {
      "cell_type": "code",
      "metadata": {
        "colab": {
          "base_uri": "https://localhost:8080/",
          "height": 202
        },
        "id": "ytdNm93uo03Z",
        "outputId": "d181eb0f-1091-4512-e1e0-6db1def858b2"
      },
      "source": [
        "data2=[];\n",
        "for i in sortedmostliked:\n",
        "  for j in sortedmostliked[i]:\n",
        "    data2.append(j.id_str);\n",
        "dataframe1=pd.DataFrame(data=data2,columns=['ID']);\n",
        "dataframe1.head()"
      ],
      "execution_count": null,
      "outputs": [
        {
          "output_type": "execute_result",
          "data": {
            "text/html": [
              "<div>\n",
              "<style scoped>\n",
              "    .dataframe tbody tr th:only-of-type {\n",
              "        vertical-align: middle;\n",
              "    }\n",
              "\n",
              "    .dataframe tbody tr th {\n",
              "        vertical-align: top;\n",
              "    }\n",
              "\n",
              "    .dataframe thead th {\n",
              "        text-align: right;\n",
              "    }\n",
              "</style>\n",
              "<table border=\"1\" class=\"dataframe\">\n",
              "  <thead>\n",
              "    <tr style=\"text-align: right;\">\n",
              "      <th></th>\n",
              "      <th>ID</th>\n",
              "    </tr>\n",
              "  </thead>\n",
              "  <tbody>\n",
              "    <tr>\n",
              "      <th>0</th>\n",
              "      <td>1385536554894958600</td>\n",
              "    </tr>\n",
              "    <tr>\n",
              "      <th>1</th>\n",
              "      <td>1385536548758646784</td>\n",
              "    </tr>\n",
              "    <tr>\n",
              "      <th>2</th>\n",
              "      <td>1385536543931072516</td>\n",
              "    </tr>\n",
              "    <tr>\n",
              "      <th>3</th>\n",
              "      <td>1385536539434921985</td>\n",
              "    </tr>\n",
              "    <tr>\n",
              "      <th>4</th>\n",
              "      <td>1385536528009502724</td>\n",
              "    </tr>\n",
              "  </tbody>\n",
              "</table>\n",
              "</div>"
            ],
            "text/plain": [
              "                    ID\n",
              "0  1385536554894958600\n",
              "1  1385536548758646784\n",
              "2  1385536543931072516\n",
              "3  1385536539434921985\n",
              "4  1385536528009502724"
            ]
          },
          "metadata": {
            "tags": []
          },
          "execution_count": 15
        }
      ]
    },
    {
      "cell_type": "code",
      "metadata": {
        "id": "3EotK9FZ4SMy"
      },
      "source": [
        "dataframe1.to_csv(\"mostliked.csv\")"
      ],
      "execution_count": null,
      "outputs": []
    },
    {
      "cell_type": "code",
      "metadata": {
        "id": "-T8HqmLmGdcd"
      },
      "source": [
        "#Collected data for most retweeted hashtags:\n",
        "sortedretweet={};\n",
        "for i in topretweet[2:12]:\n",
        "  hashtag=i[0];\n",
        "  l1=[];\n",
        "  for i in tw.Cursor(api.search, q=hashtag).items(1000):\n",
        "    if(i.lang=='en'):\n",
        "      l1.append(i);\n",
        "  sortedretweet[hashtag]=l1;"
      ],
      "execution_count": null,
      "outputs": []
    },
    {
      "cell_type": "code",
      "metadata": {
        "id": "Grqj-wU7TyhF"
      },
      "source": [
        "with open('sortedretweet.pickle', 'wb') as write:\n",
        "    pickle.dump(sortedretweet, write, protocol=pickle.HIGHEST_PROTOCOL)"
      ],
      "execution_count": null,
      "outputs": []
    },
    {
      "cell_type": "code",
      "metadata": {
        "id": "bT2w26lDUWzr"
      },
      "source": [
        "with open('sortedretweet.pickle', 'rb') as read: \n",
        "     sortedretweet= pickle.load(read)"
      ],
      "execution_count": null,
      "outputs": []
    },
    {
      "cell_type": "code",
      "metadata": {
        "colab": {
          "base_uri": "https://localhost:8080/",
          "height": 202
        },
        "id": "G4_LuK164cKl",
        "outputId": "60cab5f1-6cb4-4aa1-c1c2-00fd235ebc91"
      },
      "source": [
        "data2=[];\n",
        "for i in sortedretweet:\n",
        "  for j in sortedretweet[i]:\n",
        "    data2.append(j.id_str);\n",
        "dataframe1=pd.DataFrame(data=data2,columns=['ID']);\n",
        "dataframe1.head()"
      ],
      "execution_count": null,
      "outputs": [
        {
          "output_type": "execute_result",
          "data": {
            "text/html": [
              "<div>\n",
              "<style scoped>\n",
              "    .dataframe tbody tr th:only-of-type {\n",
              "        vertical-align: middle;\n",
              "    }\n",
              "\n",
              "    .dataframe tbody tr th {\n",
              "        vertical-align: top;\n",
              "    }\n",
              "\n",
              "    .dataframe thead th {\n",
              "        text-align: right;\n",
              "    }\n",
              "</style>\n",
              "<table border=\"1\" class=\"dataframe\">\n",
              "  <thead>\n",
              "    <tr style=\"text-align: right;\">\n",
              "      <th></th>\n",
              "      <th>ID</th>\n",
              "    </tr>\n",
              "  </thead>\n",
              "  <tbody>\n",
              "    <tr>\n",
              "      <th>0</th>\n",
              "      <td>1385540271400755201</td>\n",
              "    </tr>\n",
              "    <tr>\n",
              "      <th>1</th>\n",
              "      <td>1385539877341581315</td>\n",
              "    </tr>\n",
              "    <tr>\n",
              "      <th>2</th>\n",
              "      <td>1385539652682088451</td>\n",
              "    </tr>\n",
              "    <tr>\n",
              "      <th>3</th>\n",
              "      <td>1385539449694609408</td>\n",
              "    </tr>\n",
              "    <tr>\n",
              "      <th>4</th>\n",
              "      <td>1385539445701677056</td>\n",
              "    </tr>\n",
              "  </tbody>\n",
              "</table>\n",
              "</div>"
            ],
            "text/plain": [
              "                    ID\n",
              "0  1385540271400755201\n",
              "1  1385539877341581315\n",
              "2  1385539652682088451\n",
              "3  1385539449694609408\n",
              "4  1385539445701677056"
            ]
          },
          "metadata": {
            "tags": []
          },
          "execution_count": 17
        }
      ]
    },
    {
      "cell_type": "code",
      "metadata": {
        "id": "XmiRZCnr4trS"
      },
      "source": [
        "dataframe1.to_csv(\"mostretweet.csv\")"
      ],
      "execution_count": null,
      "outputs": []
    },
    {
      "cell_type": "code",
      "metadata": {
        "id": "8ijlOf31OXwt"
      },
      "source": [
        "def coeff(hashes, dic):\n",
        "    tweets = dic[hashes];\n",
        "    retweet = 0\n",
        "    for i in tweets:\n",
        "      if(i.text[:2]=='RT'):\n",
        "        retweet+=1;\n",
        "    R = retweet / 10\n",
        "    user_name = {}\n",
        "    for i in tweets:\n",
        "        name = i.user.screen_name\n",
        "        if(name not in user_name):\n",
        "            user_name[name] = 0\n",
        "        user_name[name] += 1\n",
        "    top50 = (sorted(user_name.items(), reverse=True,\n",
        "                    key=lambda item: item[1]));\n",
        "    top50_1 = top50[:50];\n",
        "    usercounts = 0\n",
        "    for i in top50_1:\n",
        "        usercounts += i[1]\n",
        "    F = usercounts / 10\n",
        "    frequencyoftweets = []\n",
        "    for i in top50:\n",
        "        frequencyoftweets.append(i[1])\n",
        "    if(len(frequencyoftweets)==0):\n",
        "      u=0;\n",
        "    else:\n",
        "       u = sum(frequencyoftweets) / len(frequencyoftweets)\n",
        "    l1=[hashes, R, F, u, (R/10)+F+u];\n",
        "    return l1;\n"
      ],
      "execution_count": null,
      "outputs": []
    },
    {
      "cell_type": "code",
      "metadata": {
        "colab": {
          "base_uri": "https://localhost:8080/"
        },
        "id": "8CP1I7lCRZYD",
        "outputId": "9eeebed3-1c94-4101-fa24-09b1650ee83b"
      },
      "source": [
        "def displaycoefficient(dic):\n",
        "  l2=[];\n",
        "  for i in dic.keys():\n",
        "    l1=coeff(i, dic);\n",
        "    l2.append(l1);\n",
        "  df2 = pd.DataFrame(data=l2, columns=['Hashtag','R','F','U','Coefficient'])\n",
        "  print(df2)\n",
        "print(\"Table for most liked hashtags\");\n",
        "displaycoefficient(sortedmostliked)\n"
      ],
      "execution_count": null,
      "outputs": [
        {
          "output_type": "stream",
          "text": [
            "Table for most liked hashtags\n",
            "              Hashtag     R     F         U  Coefficient\n",
            "0       #worldbookday  44.5  15.7  1.222222    21.372222\n",
            "1      #worldbookday!  45.4  15.7  1.217647    21.457647\n",
            "2      #worldbookday,  45.9  16.0  1.226378    21.816378\n",
            "3        #tovejansson   3.5   4.8  1.142857     6.292857\n",
            "4              #books  58.1  17.0  1.191819    24.001819\n",
            "5        #bookreading   2.1   6.2  1.160000     7.570000\n",
            "6   #welttagdesbuches   2.8   4.9  1.020833     6.200833\n",
            "7    #worldbooknight!  58.8  22.0  1.328398    29.208398\n",
            "8         #gyan_ganga   9.0   7.8  1.291667     9.991667\n",
            "9  #worldbookday\\nhow  75.9  11.6  1.076754    20.266754\n"
          ],
          "name": "stdout"
        }
      ]
    },
    {
      "cell_type": "code",
      "metadata": {
        "colab": {
          "base_uri": "https://localhost:8080/"
        },
        "id": "ZalP1neZUoss",
        "outputId": "893f485c-7063-44aa-852d-303f4b382d94"
      },
      "source": [
        "print(\"Table for most retweeted hashtags\");\n",
        "displaycoefficient(sortedretweet)"
      ],
      "execution_count": null,
      "outputs": [
        {
          "output_type": "stream",
          "text": [
            "Table for most retweeted hashtags\n",
            "                     Hashtag    R    F         U  Coefficient\n",
            "0  #worldbookday.\\n\\nretweet  9.7  5.0  1.000000     6.970000\n",
            "1             #worldbookday.  5.8  6.2  1.218182     7.998182\n",
            "2              #worldbookday  5.9  6.2  1.214286     8.004286\n",
            "3   #worldbookday📚!\\n\\nlet's  8.0  5.4  1.042553     7.242553\n",
            "4  #globalgoals.\\n\\nfriday's  9.9  5.0  1.000000     6.990000\n",
            "5                       #kkr  6.9  6.2  1.155844     8.045844\n",
            "6        #covidemergency2021  6.5  5.2  1.027778     6.877778\n",
            "7               #புத்தகதினம்  0.0  0.0  0.000000     0.000000\n",
            "8                   #valimai  3.7  3.9  1.772727     6.042727\n",
            "9             #worldbookday,  5.0  6.1  1.215686     7.815686\n"
          ],
          "name": "stdout"
        }
      ]
    },
    {
      "cell_type": "code",
      "metadata": {
        "colab": {
          "base_uri": "https://localhost:8080/"
        },
        "id": "IuuZIEcyUq6E",
        "outputId": "97981a38-9ce4-4057-9ee7-dcd847d008f4"
      },
      "source": [
        "print(\"Table for most occured hashtags\");\n",
        "displaycoefficient(sortedmost)"
      ],
      "execution_count": null,
      "outputs": [
        {
          "output_type": "stream",
          "text": [
            "Table for most occured hashtags\n",
            "                     Hashtag     R     F         U  Coefficient\n",
            "0             #worldbookday.  41.8  11.8  1.133072    17.113072\n",
            "1                     #books  51.2  16.0  1.172965    22.292965\n",
            "2                     #iraq,  86.5   8.2  1.035088    17.885088\n",
            "3             #worldbookday,  39.4  11.2  1.124000    16.264000\n",
            "4  #worldbookday.\\n\\nretweet  96.3   5.8  1.008089    16.438089\n",
            "5             #worldbookday!  42.4  14.7  1.215292    20.155292\n",
            "6   #worldbookday📚!\\n\\nlet's  84.9   8.3  1.034375    17.824375\n",
            "7          #worldbookday2021  40.8   9.1  1.075092    14.255092\n",
            "8                       #kkr  65.9  26.7  1.562069    34.852069\n",
            "9                #gyan_ganga   8.6   7.8  1.304348     9.964348\n"
          ],
          "name": "stdout"
        }
      ]
    }
  ]
}